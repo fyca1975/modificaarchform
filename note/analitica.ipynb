{
 "cells": [
  {
   "cell_type": "code",
   "execution_count": null,
   "id": "6293d10d",
   "metadata": {
    "vscode": {
     "languageId": "plaintext"
    }
   },
   "outputs": [],
   "source": [
    "import nbformat as nbf\n",
    "from textwrap import dedent\n",
    "from pathlib import Path"
   ]
  },
  {
   "cell_type": "code",
   "execution_count": null,
   "id": "10d4d8fd",
   "metadata": {
    "vscode": {
     "languageId": "plaintext"
    }
   },
   "outputs": [],
   "source": [
    "nb = nbf.v4.new_notebook()\n",
    "cells = []"
   ]
  },
  {
   "cell_type": "code",
   "execution_count": null,
   "id": "e89d904e",
   "metadata": {
    "vscode": {
     "languageId": "plaintext"
    }
   },
   "outputs": [],
   "source": [
    "cells.append(nbf.v4.new_markdown_cell(dedent(\"\"\"\n",
    "# Analítica rápida de OK/NOK por Fecha y Hora\n",
    "Este cuaderno lee un archivo **Excel** con campos de **estado (OK/NOK)**, **fecha** y **hora**, y produce:\n",
    "- Un **gráfico de dispersión** (Fecha vs Hora) separando OK y NOK.\n",
    "- Un **gráfico de barras** con **conteo de NOK por hora**.\n",
    "- Un **informe PDF** con ambos gráficos y un resumen descriptivo.\n",
    "\n",
    "> Cambia la ruta del archivo en la siguiente celda de parámetros y ejecuta todo.\n",
    "\"\"\")))"
   ]
  },
  {
   "cell_type": "code",
   "execution_count": null,
   "id": "6127269d",
   "metadata": {
    "vscode": {
     "languageId": "plaintext"
    }
   },
   "outputs": [],
   "source": [
    "cells.append(nbf.v4.new_code_cell(dedent(\"\"\"\n",
    "# ==========================\n",
    "# Parámetros\n",
    "# ==========================\n",
    "excel_path = \"ejecuciones.xlsx\"   # <- Cambia a tu ruta/archivo .xlsx\n",
    "sheet_name = None                 # Ej: \"Hoja1\" o None para primera hoja\n",
    "\n",
    "# Salidas\n",
    "out_dir = \"salida_ok_nok\"\n",
    "scatter_png = f\"{out_dir}/scatter_fecha_hora.png\"\n",
    "bars_png = f\"{out_dir}/barras_nok_por_hora.png\"\n",
    "pdf_path = f\"{out_dir}/informe_ok_nok.pdf\"\n",
    "\"\"\")))"
   ]
  },
  {
   "cell_type": "code",
   "execution_count": null,
   "id": "8d2c53fc",
   "metadata": {
    "vscode": {
     "languageId": "plaintext"
    }
   },
   "outputs": [],
   "source": [
    "cells.append(nbf.v4.new_code_cell(dedent(\"\"\"\n",
    "# ==========================\n",
    "# Imports y utilidades\n",
    "# ==========================\n",
    "# Si falta alguna librería, instala con:\n",
    "# !pip install pandas matplotlib openpyxl reportlab\n",
    "\n",
    "import os, re, math\n",
    "from pathlib import Path\n",
    "import numpy as np\n",
    "import pandas as pd\n",
    "import matplotlib.pyplot as plt\n",
    "import matplotlib.dates as mdates\n",
    "from datetime import datetime\n",
    "from reportlab.lib.pagesizes import A4\n",
    "from reportlab.lib.units import cm\n",
    "from reportlab.pdfgen import canvas\n",
    "from reportlab.lib.utils import ImageReader\n",
    "\n",
    "SPANISH_MONTHS = {\n",
    "    \"enero\": 1, \"febrero\": 2, \"marzo\": 3, \"abril\": 4, \"mayo\": 5, \"junio\": 6,\n",
    "    \"julio\": 7, \"agosto\": 8, \"septiembre\": 9, \"setiembre\": 9, \"octubre\": 10,\n",
    "    \"noviembre\": 11, \"diciembre\": 12\n",
    "}\n",
    "\n",
    "def normalize_cols(df: pd.DataFrame) -> pd.DataFrame:\n",
    "    df = df.copy()\n",
    "    df.columns = [re.sub(r\"\\\\s+\", \" \", str(c)).strip().lower() for c in df.columns]\n",
    "    return df\n",
    "\n",
    "def guess_col(df: pd.DataFrame, candidates):\n",
    "    for cand in candidates:\n",
    "        for c in df.columns:\n",
    "            if cand in c:\n",
    "                return c\n",
    "    return None\n",
    "\n",
    "def parse_spanish_date(val):\n",
    "    if pd.isna(val):\n",
    "        return pd.NaT\n",
    "    if isinstance(val, (pd.Timestamp, datetime)):\n",
    "        return pd.Timestamp(val).normalize()\n",
    "    if isinstance(val, (int, float)) and not math.isnan(val):\n",
    "        try:\n",
    "            return pd.to_datetime('1899-12-30') + pd.to_timedelta(int(val), unit='D')\n",
    "        except Exception:\n",
    "            pass\n",
    "    s = str(val).strip().lower()\n",
    "    t = pd.to_datetime(s, dayfirst=True, errors='coerce')\n",
    "    if not pd.isna(t):\n",
    "        return pd.Timestamp(t).normalize()\n",
    "    m = re.search(r'(\\\\d{1,2})\\\\s+de\\\\s+([a-záéíóúñ]+)\\\\s+de\\\\s+(\\\\d{4})', s)\n",
    "    if m:\n",
    "        dd = int(m.group(1))\n",
    "        mes_txt = (m.group(2)\n",
    "                   .replace('á','a').replace('é','e').replace('í','i')\n",
    "                   .replace('ó','o').replace('ú','u'))\n",
    "        mm = SPANISH_MONTHS.get(mes_txt, None)\n",
    "        yyyy = int(m.group(3))\n",
    "        if mm:\n",
    "            return pd.Timestamp(year=yyyy, month=mm, day=dd)\n",
    "    return pd.NaT\n",
    "\n",
    "def parse_time(val):\n",
    "    if pd.isna(val):\n",
    "        return pd.NaT\n",
    "    if isinstance(val, (pd.Timestamp, datetime)):\n",
    "        return pd.Timestamp('1970-01-01') + pd.to_timedelta(val.hour, 'h') + \\\n",
    "               pd.to_timedelta(val.minute, 'm') + pd.to_timedelta(val.second, 's')\n",
    "    s = str(val).strip().lower()\n",
    "    s = (s.replace('a. m.', 'am').replace('p. m.', 'pm')\n",
    "           .replace('a. m', 'am').replace('p. m', 'pm')\n",
    "           .replace(' a m', 'am').replace(' p m', 'pm')\n",
    "           .replace('a.m.', 'am').replace('p.m.', 'pm')\n",
    "           .replace(' a.m', 'am').replace(' p.m', 'pm'))\n",
    "    for fmt in ['%I:%M:%S %p','%H:%M:%S','%I:%M %p','%H:%M']:\n",
    "        t = pd.to_datetime(s, format=fmt, errors='coerce')\n",
    "        if not pd.isna(t):\n",
    "            return pd.Timestamp('1970-01-01') + pd.to_timedelta(int(t.dt.hour.iloc[0]), 'h') + \\\n",
    "                   pd.to_timedelta(int(t.dt.minute.iloc[0]), 'm') + \\\n",
    "                   pd.to_timedelta(int(getattr(t.dt, 'second', pd.Series([0])).iloc[0]), 's')\n",
    "    t = pd.to_datetime(s, errors='coerce')\n",
    "    if not pd.isna(t):\n",
    "        return pd.Timestamp('1970-01-01') + pd.to_timedelta(int(t.dt.hour.iloc[0]), 'h') + \\\n",
    "               pd.to_timedelta(int(t.dt.minute.iloc[0]), 'm') + \\\n",
    "               pd.to_timedelta(int(getattr(t.dt, 'second', pd.Series([0])).iloc[0]), 's')\n",
    "    return pd.NaT\n",
    "\n",
    "Path(out_dir).mkdir(parents=True, exist_ok=True)\n",
    "\"\"\")))"
   ]
  },
  {
   "cell_type": "code",
   "execution_count": null,
   "id": "f5526f03",
   "metadata": {
    "vscode": {
     "languageId": "plaintext"
    }
   },
   "outputs": [],
   "source": [
    "cells.append(nbf.v4.new_code_cell(dedent(\"\"\"\n",
    "# ==========================\n",
    "# Cargar datos\n",
    "# ==========================\n",
    "df = pd.read_excel(excel_path, sheet_name=sheet_name)\n",
    "df = normalize_cols(df)\n",
    "\n",
    "col_status = guess_col(df, ['ok/nok', 'oknok', 'ok nok', 'ejecucion ok/nok', 'estado', 'resultado'])\n",
    "col_fecha  = guess_col(df, ['fecha'])\n",
    "col_hora   = guess_col(df, ['hora', 'hora ejecu'])\n",
    "\n",
    "if not col_status or not col_fecha or not col_hora:\n",
    "    raise ValueError(f\"No pude identificar columnas. Detectadas -> status:{col_status}, fecha:{col_fecha}, hora:{col_hora}\")\n",
    "\n",
    "df['_status'] = df[col_status].astype(str).str.strip().str.lower()\n",
    "df['_status'] = np.where(df['_status'].str.contains('nok'), 'NOK', 'OK')\n",
    "df['_fecha'] = df[col_fecha].apply(parse_spanish_date)\n",
    "df['_hora']  = df[col_hora].apply(parse_time)\n",
    "\n",
    "df = df.dropna(subset=['_fecha', '_hora']).copy()\n",
    "df['_hour'] = df['_hora'].dt.hour\n",
    "\n",
    "print(\"Filas válidas:\", len(df))\n",
    "df.head(5)\n",
    "\"\"\")))\n"
   ]
  },
  {
   "cell_type": "code",
   "execution_count": null,
   "id": "1c101ea8",
   "metadata": {
    "vscode": {
     "languageId": "plaintext"
    }
   },
   "outputs": [],
   "source": [
    "cells.append(nbf.v4.new_markdown_cell(\"## Gráfico 1: Dispersión **Fecha vs Hora** (OK vs NOK)\"))\n",
    "cells.append(nbf.v4.new_code_cell(dedent(\"\"\"\n",
    "import matplotlib.pyplot as plt\n",
    "import matplotlib.dates as mdates\n",
    "\n",
    "fig, ax = plt.subplots(figsize=(10,5))\n",
    "for label in ['NOK', 'OK']:\n",
    "    sub = df[df['_status']==label]\n",
    "    ax.scatter(sub['_fecha'], sub['_hora'], label=label, alpha=0.9)\n",
    "\n",
    "ax.set_xlabel('Fecha')\n",
    "ax.set_ylabel('Hora del día')\n",
    "ax.xaxis.set_major_locator(mdates.AutoDateLocator())\n",
    "ax.xaxis.set_major_formatter(mdates.DateFormatter('%Y-%m-%d'))\n",
    "ax.yaxis.set_major_formatter(mdates.DateFormatter('%H:%M'))\n",
    "ax.grid(True, linestyle='--', linewidth=0.5, alpha=0.6)\n",
    "ax.legend(title='Estado')\n",
    "fig.autofmt_xdate()\n",
    "plt.tight_layout()\n",
    "plt.savefig(scatter_png, dpi=150)\n",
    "plt.show()\n",
    "print(f\"Guardado: {scatter_png}\")\n",
    "\"\"\")))"
   ]
  },
  {
   "cell_type": "code",
   "execution_count": null,
   "id": "e7e47676",
   "metadata": {
    "vscode": {
     "languageId": "plaintext"
    }
   },
   "outputs": [],
   "source": [
    "cells.append(nbf.v4.new_markdown_cell(\"## Gráfico 2: Barras — **Conteo de NOK por hora (0–23)**\"))\n",
    "cells.append(nbf.v4.new_code_cell(dedent(\"\"\"\n",
    "nok = df[df['_status']=='NOK'].copy()\n",
    "conteo_hora = nok.groupby('_hour').size().reindex(range(24), fill_value=0)\n",
    "\n",
    "fig, ax = plt.subplots(figsize=(10,4))\n",
    "ax.bar(conteo_hora.index.astype(str), conteo_hora.values)\n",
    "ax.set_xlabel('Hora del día')\n",
    "ax.set_ylabel('NOK (conteo)')\n",
    "ax.grid(True, axis='y', linestyle='--', linewidth=0.5, alpha=0.6)\n",
    "plt.tight_layout()\n",
    "plt.savefig(bars_png, dpi=150)\n",
    "plt.show()\n",
    "print(f\"Guardado: {bars_png}\")\n",
    "\"\"\")))"
   ]
  },
  {
   "cell_type": "code",
   "execution_count": null,
   "id": "47601460",
   "metadata": {
    "vscode": {
     "languageId": "plaintext"
    }
   },
   "outputs": [],
   "source": [
    "cells.append(nbf.v4.new_markdown_cell(\"## Resumen descriptivo\"))\n",
    "cells.append(nbf.v4.new_code_cell(dedent(\"\"\"\n",
    "total = len(df)\n",
    "tot_ok = (df['_status']=='OK').sum()\n",
    "tot_nok = (df['_status']=='NOK').sum()\n",
    "top_horas = conteo_hora.sort_values(ascending=False).head(5)\n",
    "\n",
    "print(f\"Total registros: {total}\")\n",
    "print(f\"OK: {tot_ok} | NOK: {tot_nok}\")\n",
    "print(\"\\\\nTop 5 horas con más NOK:\")\n",
    "for h, v in top_horas.items():\n",
    "    print(f\"  - {h:02d}:00  ->  {v} NOK\")"
   ]
  },
  {
   "cell_type": "code",
   "execution_count": null,
   "id": "9146b9f7",
   "metadata": {
    "vscode": {
     "languageId": "plaintext"
    }
   },
   "outputs": [],
   "source": [
    "# Texto para PDF\n",
    "resumen = [\n",
    "    f\"Total registros: {total}\",\n",
    "    f\"OK: {tot_ok} | NOK: {tot_nok}\",\n",
    "    \"\",\n",
    "    \"Top 5 horas con más NOK:\"\n",
    "] + [f\"  - {int(h):02d}:00 -> {int(v)} NOK\" for h, v in top_horas.items()]\n",
    "\"\"\")))\n",
    "\n",
    "cells.append(nbf.v4.new_markdown_cell(\"## Generar **PDF** con gráficos y resumen\"))\n",
    "cells.append(nbf.v4.new_code_cell(dedent(\"\"\"\n",
    "from reportlab.lib.pagesizes import A4\n",
    "from reportlab.pdfgen import canvas\n",
    "from reportlab.lib.units import cm\n",
    "from reportlab.lib.utils import ImageReader\n",
    "from pathlib import Path\n",
    "\n",
    "Path(out_dir).mkdir(parents=True, exist_ok=True)\n",
    "\n",
    "c = canvas.Canvas(pdf_path, pagesize=A4)\n",
    "W, H = A4\n",
    "\n",
    "# Portada\n",
    "c.setFont(\"Helvetica-Bold\", 16)\n",
    "c.drawString(2*cm, H-3*cm, \"Informe OK/NOK — Fecha y Hora\")\n",
    "c.setFont(\"Helvetica\", 10)\n",
    "c.drawString(2*cm, H-4*cm, f\"Archivo: {excel_path}\")\n",
    "c.drawString(2*cm, H-4.6*cm, f\"Hoja: {sheet_name if sheet_name else '(primera)'}\")\n",
    "c.drawString(2*cm, H-5.2*cm, f\"Total: {total}  |  OK: {tot_ok}  |  NOK: {tot_nok}\")\n",
    "c.showPage()"
   ]
  },
  {
   "cell_type": "code",
   "execution_count": null,
   "id": "50263983",
   "metadata": {
    "vscode": {
     "languageId": "plaintext"
    }
   },
   "outputs": [],
   "source": [
    "# Resumen\n",
    "c.setFont(\"Helvetica-Bold\", 12)\n",
    "c.drawString(2*cm, H-2.5*cm, \"Resumen\")\n",
    "c.setFont(\"Helvetica\", 10)\n",
    "y = H-3.2*cm\n",
    "for line in resumen:\n",
    "    c.drawString(2*cm, y, line)\n",
    "    y -= 0.6*cm\n",
    "    if y < 3*cm:\n",
    "        c.showPage()\n",
    "        c.setFont(\"Helvetica\", 10)\n",
    "        y = H-2.5*cm\n"
   ]
  },
  {
   "cell_type": "code",
   "execution_count": null,
   "id": "37272a53",
   "metadata": {
    "vscode": {
     "languageId": "plaintext"
    }
   },
   "outputs": [],
   "source": [
    "# Gráfico de dispersión\n",
    "if Path(scatter_png).exists():\n",
    "    c.showPage()\n",
    "    c.setFont(\"Helvetica-Bold\", 12)\n",
    "    c.drawString(2*cm, H-2.5*cm, \"Dispersión: Fecha vs Hora (OK/NOK)\")\n",
    "    img = ImageReader(scatter_png)\n",
    "    img_w = W - 3*cm\n",
    "    img_h = (img_w * 9) / 16\n",
    "    c.drawImage(img, 1.5*cm, H-2.5*cm-img_h-0.5*cm, width=img_w, height=img_h, preserveAspectRatio=True)\n"
   ]
  },
  {
   "cell_type": "code",
   "execution_count": null,
   "id": "966561be",
   "metadata": {
    "vscode": {
     "languageId": "plaintext"
    }
   },
   "outputs": [],
   "source": [
    "# Barras NOK por hora\n",
    "if Path(bars_png).exists():\n",
    "    c.showPage()\n",
    "    c.setFont(\"Helvetica-Bold\", 12)\n",
    "    c.drawString(2*cm, H-2.5*cm, \"Barras: NOK por hora\")\n",
    "    img = ImageReader(bars_png)\n",
    "    img_w = W - 3*cm\n",
    "    img_h = (img_w * 9) / 16\n",
    "    c.drawImage(img, 1.5*cm, H-2.5*cm-img_h-0.5*cm, width=img_w, height=img_h, preserveAspectRatio=True)\n",
    "    c.save()\n",
    "print(f\"PDF generado en: {pdf_path}\")\n",
    "\"\"\")))\n",
    "\n",
    "nb_path = Path(\"/mnt/data/analitica_ok_nok_simple.ipynb\")\n",
    "nb_path.write_text(nbf.writes(nb), encoding=\"utf-8\")\n",
    "\n",
    "print(nb_path.as_posix())\n"
   ]
  }
 ],
 "metadata": {
  "language_info": {
   "name": "python"
  }
 },
 "nbformat": 4,
 "nbformat_minor": 5
}
